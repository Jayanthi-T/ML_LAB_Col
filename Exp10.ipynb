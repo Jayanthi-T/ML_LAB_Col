{
  "nbformat": 4,
  "nbformat_minor": 0,
  "metadata": {
    "colab": {
      "name": "Exp10_1817119.ipynb",
      "provenance": [],
      "collapsed_sections": [],
      "authorship_tag": "ABX9TyPs3fdc9RAkDAm63PHShuih",
      "include_colab_link": true
    },
    "kernelspec": {
      "name": "python3",
      "display_name": "Python 3"
    },
    "language_info": {
      "name": "python"
    }
  },
  "cells": [
    {
      "cell_type": "markdown",
      "metadata": {
        "id": "view-in-github",
        "colab_type": "text"
      },
      "source": [
        "<a href=\"https://colab.research.google.com/github/Jayanthi-T/ML_LAB_Col/blob/main/Exp10.ipynb\" target=\"_parent\"><img src=\"https://colab.research.google.com/assets/colab-badge.svg\" alt=\"Open In Colab\"/></a>"
      ]
    },
    {
      "cell_type": "markdown",
      "metadata": {
        "id": "_vn66RXPD4KP"
      },
      "source": [
        "# **MACHINE LEARNING LABORATORY**\n",
        "\n",
        "---------\n",
        "# **1817119_JAYANTHI T**\n",
        "#**✫ EXP 10 : Design and Implementation of Hidden Markov Models**"
      ]
    },
    {
      "cell_type": "code",
      "metadata": {
        "colab": {
          "base_uri": "https://localhost:8080/"
        },
        "id": "DZ59IQjXFX4m",
        "outputId": "a2986782-5ebe-40e5-fb08-839886bd31ce"
      },
      "source": [
        "import numpy as np\n",
        "import pandas as pd\n",
        "import networkx as nx\n",
        "import matplotlib.pyplot as plt\n",
        "%matplotlib inline\n",
        "\n",
        "# create state space and initial state probabilities\n",
        "\n",
        "states = ['sleeping', 'eating', 'pooping']\n",
        "pi = [0.35, 0.35, 0.3]\n",
        "state_space = pd.Series(pi, index=states, name='states')\n",
        "print(state_space)\n",
        "print(state_space.sum())"
      ],
      "execution_count": null,
      "outputs": [
        {
          "output_type": "stream",
          "name": "stdout",
          "text": [
            "sleeping    0.35\n",
            "eating      0.35\n",
            "pooping     0.30\n",
            "Name: states, dtype: float64\n",
            "1.0\n"
          ]
        }
      ]
    },
    {
      "cell_type": "code",
      "metadata": {
        "colab": {
          "base_uri": "https://localhost:8080/"
        },
        "id": "5bre9YBzFc6O",
        "outputId": "16c38299-e5d3-481b-829c-a9df3bd4b7ee"
      },
      "source": [
        "# create transition matrix\n",
        "# equals transition probability matrix of changing states given a state\n",
        "# matrix is size (M x M) where M is number of states\n",
        "\n",
        "q_df = pd.DataFrame(columns=states, index=states)\n",
        "q_df.loc[states[0]] = [0.4, 0.2, 0.4]\n",
        "q_df.loc[states[1]] = [0.45, 0.45, 0.1]\n",
        "q_df.loc[states[2]] = [0.45, 0.25, .3]\n",
        "\n",
        "print(q_df)\n",
        "\n",
        "q = q_df.values\n",
        "print('\\n', q, q.shape, '\\n')\n",
        "print(q_df.sum(axis=1))"
      ],
      "execution_count": null,
      "outputs": [
        {
          "output_type": "stream",
          "name": "stdout",
          "text": [
            "         sleeping eating pooping\n",
            "sleeping      0.4    0.2     0.4\n",
            "eating       0.45   0.45     0.1\n",
            "pooping      0.45   0.25     0.3\n",
            "\n",
            " [[0.4 0.2 0.4]\n",
            " [0.45 0.45 0.1]\n",
            " [0.45 0.25 0.3]] (3, 3) \n",
            "\n",
            "sleeping    1.0\n",
            "eating      1.0\n",
            "pooping     1.0\n",
            "dtype: float64\n"
          ]
        }
      ]
    },
    {
      "cell_type": "code",
      "metadata": {
        "colab": {
          "base_uri": "https://localhost:8080/"
        },
        "id": "mJWGu4laFiGf",
        "outputId": "6dd50fcb-5365-4738-c3ac-cbb3165a6d75"
      },
      "source": [
        "from pprint import pprint \n",
        "\n",
        "# create a function that maps transition probability dataframe \n",
        "# to markov edges and weights\n",
        "\n",
        "def _get_markov_edges(Q):\n",
        "    edges = {}\n",
        "    for col in Q.columns:\n",
        "        for idx in Q.index:\n",
        "            edges[(idx,col)] = Q.loc[idx,col]\n",
        "    return edges\n",
        "\n",
        "edges_wts = _get_markov_edges(q_df)\n",
        "pprint(edges_wts)"
      ],
      "execution_count": null,
      "outputs": [
        {
          "output_type": "stream",
          "name": "stdout",
          "text": [
            "{('eating', 'eating'): 0.45,\n",
            " ('eating', 'pooping'): 0.1,\n",
            " ('eating', 'sleeping'): 0.45,\n",
            " ('pooping', 'eating'): 0.25,\n",
            " ('pooping', 'pooping'): 0.3,\n",
            " ('pooping', 'sleeping'): 0.45,\n",
            " ('sleeping', 'eating'): 0.2,\n",
            " ('sleeping', 'pooping'): 0.4,\n",
            " ('sleeping', 'sleeping'): 0.4}\n"
          ]
        }
      ]
    },
    {
      "cell_type": "code",
      "metadata": {
        "colab": {
          "base_uri": "https://localhost:8080/"
        },
        "id": "nJIuVA4gGD5G",
        "outputId": "9ba30c8b-cb44-451a-9165-7b4fd39e16ec"
      },
      "source": [
        "# create state space and initial state probabilities\n",
        "\n",
        "hidden_states = ['healthy', 'sick']\n",
        "pi = [0.5, 0.5]\n",
        "state_space = pd.Series(pi, index=hidden_states, name='states')\n",
        "print(state_space)\n",
        "print('\\n', state_space.sum())"
      ],
      "execution_count": null,
      "outputs": [
        {
          "output_type": "stream",
          "name": "stdout",
          "text": [
            "healthy    0.5\n",
            "sick       0.5\n",
            "Name: states, dtype: float64\n",
            "\n",
            " 1.0\n"
          ]
        }
      ]
    },
    {
      "cell_type": "code",
      "metadata": {
        "colab": {
          "base_uri": "https://localhost:8080/"
        },
        "id": "6EWgs074GI-x",
        "outputId": "c267736e-7757-44c2-fbbb-46f67345a74d"
      },
      "source": [
        "# create hidden transition matrix\n",
        "# a or alpha \n",
        "#   = transition probability matrix of changing states given a state\n",
        "# matrix is size (M x M) where M is number of states\n",
        "\n",
        "a_df = pd.DataFrame(columns=hidden_states, index=hidden_states)\n",
        "a_df.loc[hidden_states[0]] = [0.7, 0.3]\n",
        "a_df.loc[hidden_states[1]] = [0.4, 0.6]\n",
        "\n",
        "print(a_df)\n",
        "\n",
        "a = a_df.values\n",
        "print('\\n', a, a.shape, '\\n')\n",
        "print(a_df.sum(axis=1))"
      ],
      "execution_count": null,
      "outputs": [
        {
          "output_type": "stream",
          "name": "stdout",
          "text": [
            "        healthy sick\n",
            "healthy     0.7  0.3\n",
            "sick        0.4  0.6\n",
            "\n",
            " [[0.7 0.3]\n",
            " [0.4 0.6]] (2, 2) \n",
            "\n",
            "healthy    1.0\n",
            "sick       1.0\n",
            "dtype: float64\n"
          ]
        }
      ]
    },
    {
      "cell_type": "code",
      "metadata": {
        "colab": {
          "base_uri": "https://localhost:8080/"
        },
        "id": "bnlKV4mGGPMf",
        "outputId": "378f1e53-975d-472c-bb1b-26ba83517c4c"
      },
      "source": [
        "# create matrix of observation (emission) probabilities\n",
        "# b or beta = observation probabilities given state\n",
        "# matrix is size (M x O) where M is number of states \n",
        "# and O is number of different possible observations\n",
        "\n",
        "observable_states = states\n",
        "\n",
        "b_df = pd.DataFrame(columns=observable_states, index=hidden_states)\n",
        "b_df.loc[hidden_states[0]] = [0.2, 0.6, 0.2]\n",
        "b_df.loc[hidden_states[1]] = [0.4, 0.1, 0.5]\n",
        "\n",
        "print(b_df)\n",
        "\n",
        "b = b_df.values\n",
        "print('\\n', b, b.shape, '\\n')\n",
        "print(b_df.sum(axis=1))"
      ],
      "execution_count": null,
      "outputs": [
        {
          "output_type": "stream",
          "name": "stdout",
          "text": [
            "        sleeping eating pooping\n",
            "healthy      0.2    0.6     0.2\n",
            "sick         0.4    0.1     0.5\n",
            "\n",
            " [[0.2 0.6 0.2]\n",
            " [0.4 0.1 0.5]] (2, 3) \n",
            "\n",
            "healthy    1.0\n",
            "sick       1.0\n",
            "dtype: float64\n"
          ]
        }
      ]
    },
    {
      "cell_type": "code",
      "metadata": {
        "colab": {
          "base_uri": "https://localhost:8080/"
        },
        "id": "lgASPvMLGT3d",
        "outputId": "bdef38fc-9a61-4cca-ef1d-aa3093b2d6fd"
      },
      "source": [
        "# create graph edges and weights\n",
        "\n",
        "hide_edges_wts = _get_markov_edges(a_df)\n",
        "pprint(hide_edges_wts)\n",
        "\n",
        "emit_edges_wts = _get_markov_edges(b_df)\n",
        "pprint(emit_edges_wts)\n"
      ],
      "execution_count": null,
      "outputs": [
        {
          "output_type": "stream",
          "name": "stdout",
          "text": [
            "{('healthy', 'healthy'): 0.7,\n",
            " ('healthy', 'sick'): 0.3,\n",
            " ('sick', 'healthy'): 0.4,\n",
            " ('sick', 'sick'): 0.6}\n",
            "{('healthy', 'eating'): 0.6,\n",
            " ('healthy', 'pooping'): 0.2,\n",
            " ('healthy', 'sleeping'): 0.2,\n",
            " ('sick', 'eating'): 0.1,\n",
            " ('sick', 'pooping'): 0.5,\n",
            " ('sick', 'sleeping'): 0.4}\n"
          ]
        }
      ]
    },
    {
      "cell_type": "code",
      "metadata": {
        "colab": {
          "base_uri": "https://localhost:8080/",
          "height": 355
        },
        "id": "C2j6CJ75GZoD",
        "outputId": "a18a028d-effb-42de-d133-a3b1344fd72c"
      },
      "source": [
        "# create graph object\n",
        "G = nx.MultiDiGraph()\n",
        "\n",
        "# nodes correspond to states\n",
        "G.add_nodes_from(hidden_states)\n",
        "print(f'Nodes:\\n{G.nodes()}\\n')\n",
        "\n",
        "# edges represent hidden probabilities\n",
        "for k, v in hide_edges_wts.items():\n",
        "    tmp_origin, tmp_destination = k[0], k[1]\n",
        "    G.add_edge(tmp_origin, tmp_destination, weight=v, label=v)\n",
        "\n",
        "# edges represent emission probabilities\n",
        "for k, v in emit_edges_wts.items():\n",
        "    tmp_origin, tmp_destination = k[0], k[1]\n",
        "    G.add_edge(tmp_origin, tmp_destination, weight=v, label=v)\n",
        "    \n",
        "print(f'Edges:')\n",
        "pprint(G.edges(data=True))    \n",
        "\n",
        "pos = nx.drawing.nx_pydot.graphviz_layout(G, prog='neato')\n",
        "nx.draw_networkx(G, pos)\n",
        "\n",
        "# create edge labels for jupyter plot but is not necessary\n",
        "emit_edge_labels = {(n1,n2):d['label'] for n1,n2,d in G.edges(data=True)}\n",
        "nx.draw_networkx_edge_labels(G , pos, edge_labels=emit_edge_labels)\n",
        "nx.drawing.nx_pydot.write_dot(G, 'pet_dog_hidden_markov.dot')"
      ],
      "execution_count": null,
      "outputs": [
        {
          "output_type": "stream",
          "name": "stdout",
          "text": [
            "Nodes:\n",
            "['healthy', 'sick']\n",
            "\n",
            "Edges:\n",
            "OutMultiEdgeDataView([('healthy', 'healthy', {'weight': 0.7, 'label': 0.7}), ('healthy', 'sick', {'weight': 0.3, 'label': 0.3}), ('healthy', 'sleeping', {'weight': 0.2, 'label': 0.2}), ('healthy', 'eating', {'weight': 0.6, 'label': 0.6}), ('healthy', 'pooping', {'weight': 0.2, 'label': 0.2}), ('sick', 'healthy', {'weight': 0.4, 'label': 0.4}), ('sick', 'sick', {'weight': 0.6, 'label': 0.6}), ('sick', 'sleeping', {'weight': 0.4, 'label': 0.4}), ('sick', 'eating', {'weight': 0.1, 'label': 0.1}), ('sick', 'pooping', {'weight': 0.5, 'label': 0.5})])\n"
          ]
        },
        {
          "output_type": "display_data",
          "data": {
            "image/png": "[encoded data removed]",
            "text/plain": [
              "<Figure size 432x288 with 1 Axes>"
            ]
          },
          "metadata": {}
        }
      ]
    },
    {
      "cell_type": "code",
      "metadata": {
        "colab": {
          "base_uri": "https://localhost:8080/"
        },
        "id": "AcB9t5-4GiVr",
        "outputId": "8b275125-5fb9-4601-9732-ba732a89c890"
      },
      "source": [
        "# observation sequence of dog's behaviors\n",
        "# observations are encoded numerically\n",
        "\n",
        "obs_map = {'sleeping':0, 'eating':1, 'pooping':2}\n",
        "obs = np.array([1,1,2,1,0,1,2,1,0,2,2,0,1,0,1])\n",
        "\n",
        "inv_obs_map = dict((v,k) for k, v in obs_map.items())\n",
        "obs_seq = [inv_obs_map[v] for v in list(obs)]\n",
        "\n",
        "print( pd.DataFrame(np.column_stack([obs, obs_seq]), \n",
        "                columns=['Obs_code', 'Obs_seq']) )"
      ],
      "execution_count": null,
      "outputs": [
        {
          "output_type": "stream",
          "name": "stdout",
          "text": [
            "   Obs_code   Obs_seq\n",
            "0         1    eating\n",
            "1         1    eating\n",
            "2         2   pooping\n",
            "3         1    eating\n",
            "4         0  sleeping\n",
            "5         1    eating\n",
            "6         2   pooping\n",
            "7         1    eating\n",
            "8         0  sleeping\n",
            "9         2   pooping\n",
            "10        2   pooping\n",
            "11        0  sleeping\n",
            "12        1    eating\n",
            "13        0  sleeping\n",
            "14        1    eating\n"
          ]
        }
      ]
    }
  ]
}