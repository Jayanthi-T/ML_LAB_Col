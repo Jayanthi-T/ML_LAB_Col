{
  "nbformat": 4,
  "nbformat_minor": 0,
  "metadata": {
    "colab": {
      "name": "1817119_JAYANTHI T_ML LAB_EXP 4",
      "provenance": [],
      "collapsed_sections": [],
      "authorship_tag": "ABX9TyPsulsqeYKw1PxUiLDusNAA",
      "include_colab_link": true
    },
    "kernelspec": {
      "name": "python3",
      "display_name": "Python 3"
    },
    "language_info": {
      "name": "python"
    }
  },
  "cells": [
    {
      "cell_type": "markdown",
      "metadata": {
        "id": "view-in-github",
        "colab_type": "text"
      },
      "source": [
        "<a href=\"https://colab.research.google.com/github/Jayanthi-T/ML_LAB_Col/blob/main/1817119_JAYANTHI_T_ML_LAB_EXP_4.ipynb\" target=\"_parent\"><img src=\"https://colab.research.google.com/assets/colab-badge.svg\" alt=\"Open In Colab\"/></a>"
      ]
    },
    {
      "cell_type": "markdown",
      "metadata": {
        "id": "oHWAJDmv4VfG"
      },
      "source": [
        "# **MACHINE LEARNING LABORATORY**\n",
        "\n",
        "---------\n",
        "# **1817119_JAYANTHI T**\n",
        "#**✫ EXP 4 : Implementation of Find S Algorithm**\n"
      ]
    },
    {
      "cell_type": "markdown",
      "metadata": {
        "id": "nEnsmLGN4pL0"
      },
      "source": [
        "# **Importing the necessary libraries**"
      ]
    },
    {
      "cell_type": "code",
      "metadata": {
        "id": "b-fGWQg84lHU"
      },
      "source": [
        "import pandas as pd\n",
        "import numpy as np"
      ],
      "execution_count": null,
      "outputs": []
    },
    {
      "cell_type": "markdown",
      "metadata": {
        "id": "XN98HwkS41nF"
      },
      "source": [
        "# **Reading the data in the csv file**"
      ]
    },
    {
      "cell_type": "code",
      "metadata": {
        "id": "N33Fc0TD4-m9",
        "colab": {
          "base_uri": "https://localhost:8080/"
        },
        "outputId": "6af33808-bbf0-410e-f4c0-ffed4b7a1a37"
      },
      "source": [
        "data = pd.read_csv('weather.csv')\n",
        "print(data,\"n\")"
      ],
      "execution_count": null,
      "outputs": [
        {
          "output_type": "stream",
          "text": [
            "      Time Weather Temperature Company Humidity    Wind Goes\n",
            "0  Morning   Sunny        Warm     Yes     Mild  Strong  Yes\n",
            "1  Evening   Rainy        Cold      No     Mild  Normal   No\n",
            "2  Morning   Sunny    Moderate     Yes   Normal  Normal  Yes\n",
            "3  Evening   Sunny        Cold     Yes     High  Strong  Yes n\n"
          ],
          "name": "stdout"
        }
      ]
    },
    {
      "cell_type": "markdown",
      "metadata": {
        "id": "_xhcBlo14x-C"
      },
      "source": [
        "# **Making an array of all the attributes**\n"
      ]
    },
    {
      "cell_type": "code",
      "metadata": {
        "id": "amhohWxD4k_8",
        "colab": {
          "base_uri": "https://localhost:8080/"
        },
        "outputId": "1bf488b3-c93c-46b4-87d5-e83444886ec5"
      },
      "source": [
        "d = np.array(data)[:,:-1]\n",
        "print(\"n The attributes are: \",d)"
      ],
      "execution_count": null,
      "outputs": [
        {
          "output_type": "stream",
          "text": [
            "n The attributes are:  [['Morning' 'Sunny' 'Warm' 'Yes' 'Mild' 'Strong']\n",
            " ['Evening' 'Rainy' 'Cold' 'No' 'Mild' 'Normal']\n",
            " ['Morning' 'Sunny' 'Moderate' 'Yes' 'Normal' 'Normal']\n",
            " ['Evening' 'Sunny' 'Cold' 'Yes' 'High' 'Strong']]\n"
          ],
          "name": "stdout"
        }
      ]
    },
    {
      "cell_type": "markdown",
      "metadata": {
        "id": "fjx4oa2j5bjw"
      },
      "source": [
        "# **Segregating the target that has positive and negative examples**"
      ]
    },
    {
      "cell_type": "code",
      "metadata": {
        "id": "1qwR5o914ka8",
        "colab": {
          "base_uri": "https://localhost:8080/"
        },
        "outputId": "3ef6c48e-26bd-4697-e765-204e4991acc8"
      },
      "source": [
        "target = np.array(data)[:,-1]\n",
        "print(\"n The target is: \",target)"
      ],
      "execution_count": null,
      "outputs": [
        {
          "output_type": "stream",
          "text": [
            "n The target is:  ['Yes' 'No' 'Yes' 'Yes']\n"
          ],
          "name": "stdout"
        }
      ]
    },
    {
      "cell_type": "markdown",
      "metadata": {
        "id": "UX5V-vfn5lu5"
      },
      "source": [
        "# **Training function to implement find-s algorithm**"
      ]
    },
    {
      "cell_type": "code",
      "metadata": {
        "id": "O4Ttw3625hKx"
      },
      "source": [
        "def train(c,t):\n",
        "    for i, val in enumerate(t):\n",
        "        if val == \"Yes\":\n",
        "            specific_hypothesis = c[i].copy()\n",
        "            break\n",
        "             \n",
        "    for i, val in enumerate(c):\n",
        "        if t[i] == \"Yes\":\n",
        "            for x in range(len(specific_hypothesis)):\n",
        "                if val[x] != specific_hypothesis[x]:\n",
        "                    specific_hypothesis[x] = '?'\n",
        "                else:\n",
        "                    pass\n",
        "                 \n",
        "    return specific_hypothesis"
      ],
      "execution_count": null,
      "outputs": []
    },
    {
      "cell_type": "markdown",
      "metadata": {
        "id": "hkkmnUmn5t4M"
      },
      "source": [
        "# **Obtaining the final hypothesis**"
      ]
    },
    {
      "cell_type": "code",
      "metadata": {
        "id": "M23BVR6C5hHZ",
        "colab": {
          "base_uri": "https://localhost:8080/"
        },
        "outputId": "5549e6a7-08c6-40e6-f7a6-ada45d3ffe49"
      },
      "source": [
        "print(\"n The final hypothesis is:\",train(d,target))"
      ],
      "execution_count": null,
      "outputs": [
        {
          "output_type": "stream",
          "text": [
            "n The final hypothesis is: ['?' 'Sunny' '?' 'Yes' '?' '?']\n"
          ],
          "name": "stdout"
        }
      ]
    }
  ]
}
