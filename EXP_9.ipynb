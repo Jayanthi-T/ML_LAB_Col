{
  "nbformat": 4,
  "nbformat_minor": 0,
  "metadata": {
    "colab": {
      "name": "1817119_JAYANTHI T_EXP 9.ipynb",
      "provenance": [],
      "collapsed_sections": [],
      "authorship_tag": "ABX9TyMKsxeB/PZsl8ypMPa13ui1",
      "include_colab_link": true
    },
    "kernelspec": {
      "name": "python3",
      "display_name": "Python 3"
    },
    "language_info": {
      "name": "python"
    }
  },
  "cells": [
    {
      "cell_type": "markdown",
      "metadata": {
        "id": "view-in-github",
        "colab_type": "text"
      },
      "source": [
        "<a href=\"https://colab.research.google.com/github/Jayanthi-T/ML_LAB_Col/blob/main/EXP_9.ipynb\" target=\"_parent\"><img src=\"https://colab.research.google.com/assets/colab-badge.svg\" alt=\"Open In Colab\"/></a>"
      ]
    },
    {
      "cell_type": "markdown",
      "metadata": {
        "id": "zOToTeQfrEo-"
      },
      "source": [
        "# **MACHINE LEARNING LABORATORY**\n",
        "\n",
        "---------\n",
        "# **1817119_JAYANTHI T**\n",
        "#**✫ EXP 9 : Support Vector Machines**"
      ]
    },
    {
      "cell_type": "code",
      "metadata": {
        "colab": {
          "base_uri": "https://localhost:8080/",
          "height": 912
        },
        "id": "FEKAPlnnrQjI",
        "outputId": "b5534f19-f2d0-41b7-c6d0-364fb60bcf53"
      },
      "source": [
        "import pandas as pd\n",
        "from sklearn.model_selection import train_test_split\n",
        "from sklearn.svm import SVC\n",
        "from sklearn.metrics import confusion_matrix,classification_report\n",
        "from sklearn.preprocessing import LabelEncoder\n",
        "import numpy as np\n",
        "import matplotlib.pyplot as plt\n",
        "from matplotlib.colors import ListedColormap\n",
        "\n",
        "pd.options.mode.chained_assignment = None\n",
        "\n",
        "data = pd.read_csv(\"apples_and_oranges.csv\")\n",
        "\n",
        "print(data.head())\n",
        "training_set, test_set = train_test_split(data, test_size = 0.2, random_state = 1)\n",
        "\n",
        "X_train = training_set.iloc[:,0:2].values\n",
        "Y_train = training_set.iloc[:,2].values\n",
        "X_test = test_set.iloc[:,0:2].values\n",
        "Y_test = test_set.iloc[:,2].values\n",
        "\n",
        "classifier = SVC(kernel='rbf', random_state = 5)\n",
        "classifier.fit(X_train,Y_train)\n",
        "\n",
        "Y_pred = classifier.predict(X_test)\n",
        "test_set[\"Predictions\"] = Y_pred\n",
        "\n",
        "cm = confusion_matrix(Y_test,Y_pred)\n",
        "accuracy = float(cm.diagonal().sum())/len(Y_test)\n",
        "print(\"\\nAccuracy Of SVM For The Given Dataset : \", accuracy)\n",
        "\n",
        "le = LabelEncoder()\n",
        "Y_train = le.fit_transform(Y_train)\n",
        "\n",
        "classifier = SVC(kernel='rbf', random_state = 1)\n",
        "classifier.fit(X_train,Y_train)\n",
        "print('Accuracy Metrics')\n",
        "print(classification_report(Y_test,Y_pred))\n",
        "\n",
        "print('Confusion Matrix')\n",
        "print(confusion_matrix(Y_test,Y_pred))\n",
        "\n",
        "plt.figure(figsize = (7,7))\n",
        "X_set, y_set = X_train, Y_train\n",
        "X1, X2 = np.meshgrid(np.arange(start = X_set[:, 0].min() - 1, stop = X_set[:, 0].max() + 1, step = 0.01), np.arange(start = X_set[:, 1].min() - 1, stop = X_set[:, 1].max() + 1, step = 0.01))\n",
        "plt.contourf(X1, X2, classifier.predict(np.array([X1.ravel(), X2.ravel()]).T).reshape(X1.shape), alpha = 0.75, cmap = ListedColormap(('black', 'white')))\n",
        "plt.xlim(X1.min(), X1.max())\n",
        "plt.ylim(X2.min(), X2.max())\n",
        "for i, j in enumerate(np.unique(y_set)):\n",
        "    plt.scatter(X_set[y_set == j, 0], X_set[y_set == j, 1], c = ListedColormap(('red', 'orange'))(i), label = j)\n",
        "plt.title('Apples Vs Oranges')\n",
        "plt.xlabel('Weight In Grams')\n",
        "plt.ylabel('Size in cm')\n",
        "plt.legend()\n",
        "plt.show()"
      ],
      "execution_count": null,
      "outputs": [
        {
          "output_type": "stream",
          "name": "stdout",
          "text": [
            "   Weight  Size   Class\n",
            "0      69  4.39  orange\n",
            "1      69  4.21  orange\n",
            "2      65  4.09  orange\n",
            "3      72  5.85   apple\n",
            "4      67  4.70  orange\n",
            "\n",
            "Accuracy Of SVM For The Given Dataset :  0.375\n",
            "Accuracy Metrics\n",
            "              precision    recall  f1-score   support\n",
            "\n",
            "       apple       0.38      1.00      0.55         3\n",
            "      orange       0.00      0.00      0.00         5\n",
            "\n",
            "    accuracy                           0.38         8\n",
            "   macro avg       0.19      0.50      0.27         8\n",
            "weighted avg       0.14      0.38      0.20         8\n",
            "\n",
            "Confusion Matrix\n",
            "[[3 0]\n",
            " [5 0]]\n"
          ]
        },
        {
          "output_type": "stream",
          "name": "stderr",
          "text": [
            "/usr/local/lib/python3.7/dist-packages/sklearn/metrics/_classification.py:1272: UndefinedMetricWarning: Precision and F-score are ill-defined and being set to 0.0 in labels with no predicted samples. Use `zero_division` parameter to control this behavior.\n",
            "  _warn_prf(average, modifier, msg_start, len(result))\n",
            "*c* argument looks like a single numeric RGB or RGBA sequence, which should be avoided as value-mapping will have precedence in case its length matches with *x* & *y*.  Please use the *color* keyword-argument or provide a 2-D array with a single row if you intend to specify the same RGB or RGBA value for all points.\n",
            "*c* argument looks like a single numeric RGB or RGBA sequence, which should be avoided as value-mapping will have precedence in case its length matches with *x* & *y*.  Please use the *color* keyword-argument or provide a 2-D array with a single row if you intend to specify the same RGB or RGBA value for all points.\n"
          ]
        },
        {
          "output_type": "display_data",
          "data": {
            "image/png": "[encoded data removed]",
            "text/plain": [
              "<Figure size 504x504 with 1 Axes>"
            ]
          },
          "metadata": {
            "needs_background": "light"
          }
        }
      ]
    },
    {
      "cell_type": "code",
      "metadata": {
        "id": "rebA_XwDq-_V"
      },
      "source": [
        ""
      ],
      "execution_count": null,
      "outputs": []
    }
  ]
}