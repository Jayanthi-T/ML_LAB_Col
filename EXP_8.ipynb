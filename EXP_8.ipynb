{
  "nbformat": 4,
  "nbformat_minor": 0,
  "metadata": {
    "colab": {
      "name": "1817119_JAYANTHI T_EXP 8",
      "provenance": [],
      "collapsed_sections": [],
      "authorship_tag": "ABX9TyNzci4LO+5d7DcKWk32vctl",
      "include_colab_link": true
    },
    "kernelspec": {
      "name": "python3",
      "display_name": "Python 3"
    },
    "language_info": {
      "name": "python"
    }
  },
  "cells": [
    {
      "cell_type": "markdown",
      "metadata": {
        "id": "view-in-github",
        "colab_type": "text"
      },
      "source": [
        "<a href=\"https://colab.research.google.com/github/Jayanthi-T/ML_LAB_Col/blob/main/EXP_8.ipynb\" target=\"_parent\"><img src=\"https://colab.research.google.com/assets/colab-badge.svg\" alt=\"Open In Colab\"/></a>"
      ]
    },
    {
      "cell_type": "markdown",
      "metadata": {
        "id": "bY6uj1IgTpSa"
      },
      "source": [
        "# **MACHINE LEARNING LABORATORY**\n",
        "\n",
        "---------\n",
        "# **1817119_JAYANTHI T**\n",
        "#**✫ EXP 8 : K-Nearest Neighbor Learning Algorithm**"
      ]
    },
    {
      "cell_type": "code",
      "metadata": {
        "colab": {
          "base_uri": "https://localhost:8080/"
        },
        "id": "tjwS00JlTFpA",
        "outputId": "93346025-d082-4ca9-a463-a7b6759c3555"
      },
      "source": [
        "from sklearn.model_selection import train_test_split\n",
        "from sklearn import datasets\n",
        "iris = datasets.load_iris()\n",
        "x = iris.data\n",
        "y = iris.target\n",
        "print(\"Iris Data set loaded..\")\n",
        "x_train, x_test, y_train, y_test = train_test_split(x, y, test_size=0.1)\n",
        "print(\"Dataset is split into training and testing...\") \n",
        "print(\"Size of training data and its label\", x_train.shape, y_train.shape)\n",
        "print(\"Size of testing data and its label\", x_test.shape, y_test.shape)\n",
        "for i in range(len(iris.target_names)):\n",
        "    print(\"Label\", i, \"-\", str(iris.target_names[i]))\n",
        "from sklearn.neighbors import KNeighborsClassifier as knn\n",
        "classifier = knn(n_neighbors=1)\n",
        "classifier.fit(x_train, y_train)\n",
        "y_pred = classifier.predict(x_test)\n",
        "print(\"Results of Classification using K-nn with K=1\")\n",
        "for r in range(0,len(x_test)):\n",
        "    print(\"Sample:\", str(x_test[r]), \"Actual-label:\", str(y_test[r]), \"Predicted-label:\",\n",
        "str(y_pred[r]))\n",
        "print(\"Classification Accuracy:\", classifier.score(x_test, y_test))\n",
        "from sklearn.metrics import classification_report, confusion_matrix\n",
        "print('Confusion Matrix')\n",
        "print(confusion_matrix(y_test,y_pred))\n",
        "print('Accuracy Metrics')\n",
        "print(classification_report(y_test,y_pred))"
      ],
      "execution_count": null,
      "outputs": [
        {
          "output_type": "stream",
          "name": "stdout",
          "text": [
            "Iris Data set loaded..\n",
            "Dataset is split into training and testing...\n",
            "Size of training data and its label (135, 4) (135,)\n",
            "Size of testing data and its label (15, 4) (15,)\n",
            "Label 0 - setosa\n",
            "Label 1 - versicolor\n",
            "Label 2 - virginica\n",
            "Results of Classification using K-nn with K=1\n",
            "Sample: [6.3 3.3 6.  2.5] Actual-label: 2 Predicted-label: 2\n",
            "Sample: [4.5 2.3 1.3 0.3] Actual-label: 0 Predicted-label: 0\n",
            "Sample: [7.9 3.8 6.4 2. ] Actual-label: 2 Predicted-label: 2\n",
            "Sample: [5.6 2.7 4.2 1.3] Actual-label: 1 Predicted-label: 1\n",
            "Sample: [5.  2.3 3.3 1. ] Actual-label: 1 Predicted-label: 1\n",
            "Sample: [6.5 3.  5.8 2.2] Actual-label: 2 Predicted-label: 2\n",
            "Sample: [6.4 3.2 4.5 1.5] Actual-label: 1 Predicted-label: 1\n",
            "Sample: [5.  3.4 1.5 0.2] Actual-label: 0 Predicted-label: 0\n",
            "Sample: [5.5 4.2 1.4 0.2] Actual-label: 0 Predicted-label: 0\n",
            "Sample: [7.2 3.2 6.  1.8] Actual-label: 2 Predicted-label: 2\n",
            "Sample: [4.9 2.4 3.3 1. ] Actual-label: 1 Predicted-label: 1\n",
            "Sample: [5.1 3.3 1.7 0.5] Actual-label: 0 Predicted-label: 0\n",
            "Sample: [6.2 2.2 4.5 1.5] Actual-label: 1 Predicted-label: 1\n",
            "Sample: [6.  2.9 4.5 1.5] Actual-label: 1 Predicted-label: 1\n",
            "Sample: [5.2 3.5 1.5 0.2] Actual-label: 0 Predicted-label: 0\n",
            "Classification Accuracy: 1.0\n",
            "Confusion Matrix\n",
            "[[5 0 0]\n",
            " [0 6 0]\n",
            " [0 0 4]]\n",
            "Accuracy Metrics\n",
            "              precision    recall  f1-score   support\n",
            "\n",
            "           0       1.00      1.00      1.00         5\n",
            "           1       1.00      1.00      1.00         6\n",
            "           2       1.00      1.00      1.00         4\n",
            "\n",
            "    accuracy                           1.00        15\n",
            "   macro avg       1.00      1.00      1.00        15\n",
            "weighted avg       1.00      1.00      1.00        15\n",
            "\n"
          ]
        }
      ]
    }
  ]
}